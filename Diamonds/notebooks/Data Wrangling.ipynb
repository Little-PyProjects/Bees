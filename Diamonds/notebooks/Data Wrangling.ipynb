{
 "cells": [
  {
   "cell_type": "markdown",
   "id": "370a384f",
   "metadata": {},
   "source": [
    "# Data Wrangling the Diamonds dataset"
   ]
  },
  {
   "cell_type": "markdown",
   "id": "1a39e953",
   "metadata": {},
   "source": [
    "## The basics"
   ]
  },
  {
   "cell_type": "code",
   "execution_count": 1,
   "id": "27c3c54f",
   "metadata": {},
   "outputs": [],
   "source": [
    "import pandas as pd"
   ]
  },
  {
   "cell_type": "code",
   "execution_count": 2,
   "id": "c1eedc0b",
   "metadata": {},
   "outputs": [],
   "source": [
    "df = pd.read_csv(\"../data/diamonds_raw.csv\")"
   ]
  },
  {
   "cell_type": "code",
   "execution_count": 3,
   "id": "78034fc6",
   "metadata": {
    "scrolled": true
   },
   "outputs": [
    {
     "data": {
      "text/html": [
       "<div>\n",
       "<style scoped>\n",
       "    .dataframe tbody tr th:only-of-type {\n",
       "        vertical-align: middle;\n",
       "    }\n",
       "\n",
       "    .dataframe tbody tr th {\n",
       "        vertical-align: top;\n",
       "    }\n",
       "\n",
       "    .dataframe thead th {\n",
       "        text-align: right;\n",
       "    }\n",
       "</style>\n",
       "<table border=\"1\" class=\"dataframe\">\n",
       "  <thead>\n",
       "    <tr style=\"text-align: right;\">\n",
       "      <th></th>\n",
       "      <th>Unnamed: 0</th>\n",
       "      <th>diamond_id</th>\n",
       "      <th>shape</th>\n",
       "      <th>size</th>\n",
       "      <th>color</th>\n",
       "      <th>fancy_color_dominant_color</th>\n",
       "      <th>fancy_color_secondary_color</th>\n",
       "      <th>fancy_color_overtone</th>\n",
       "      <th>fancy_color_intensity</th>\n",
       "      <th>clarity</th>\n",
       "      <th>...</th>\n",
       "      <th>girdle_min</th>\n",
       "      <th>girdle_max</th>\n",
       "      <th>culet_size</th>\n",
       "      <th>culet_condition</th>\n",
       "      <th>fluor_color</th>\n",
       "      <th>fluor_intensity</th>\n",
       "      <th>lab</th>\n",
       "      <th>total_sales_price</th>\n",
       "      <th>eye_clean</th>\n",
       "      <th>date</th>\n",
       "    </tr>\n",
       "  </thead>\n",
       "  <tbody>\n",
       "    <tr>\n",
       "      <th>219701</th>\n",
       "      <td>219701</td>\n",
       "      <td>135553116</td>\n",
       "      <td>Round</td>\n",
       "      <td>18.07</td>\n",
       "      <td>E</td>\n",
       "      <td>NaN</td>\n",
       "      <td>NaN</td>\n",
       "      <td>NaN</td>\n",
       "      <td>NaN</td>\n",
       "      <td>VS1</td>\n",
       "      <td>...</td>\n",
       "      <td>TN</td>\n",
       "      <td>M</td>\n",
       "      <td>N</td>\n",
       "      <td>NaN</td>\n",
       "      <td>NaN</td>\n",
       "      <td>None</td>\n",
       "      <td>GIA</td>\n",
       "      <td>1315496</td>\n",
       "      <td>NaN</td>\n",
       "      <td>2022-02-24</td>\n",
       "    </tr>\n",
       "    <tr>\n",
       "      <th>219702</th>\n",
       "      <td>219702</td>\n",
       "      <td>114752541</td>\n",
       "      <td>Princess</td>\n",
       "      <td>0.90</td>\n",
       "      <td>NaN</td>\n",
       "      <td>Red</td>\n",
       "      <td>NaN</td>\n",
       "      <td>NaN</td>\n",
       "      <td>Fancy</td>\n",
       "      <td>SI2</td>\n",
       "      <td>...</td>\n",
       "      <td>XTN</td>\n",
       "      <td>VTK</td>\n",
       "      <td>N</td>\n",
       "      <td>NaN</td>\n",
       "      <td>NaN</td>\n",
       "      <td>Faint</td>\n",
       "      <td>GIA</td>\n",
       "      <td>1350000</td>\n",
       "      <td>NaN</td>\n",
       "      <td>2022-02-24</td>\n",
       "    </tr>\n",
       "    <tr>\n",
       "      <th>219703</th>\n",
       "      <td>219703</td>\n",
       "      <td>129630500</td>\n",
       "      <td>Pear</td>\n",
       "      <td>10.03</td>\n",
       "      <td>NaN</td>\n",
       "      <td>Yellow</td>\n",
       "      <td>NaN</td>\n",
       "      <td>NaN</td>\n",
       "      <td>Fancy Vivid</td>\n",
       "      <td>VVS2</td>\n",
       "      <td>...</td>\n",
       "      <td>NaN</td>\n",
       "      <td>NaN</td>\n",
       "      <td>NaN</td>\n",
       "      <td>NaN</td>\n",
       "      <td>NaN</td>\n",
       "      <td>None</td>\n",
       "      <td>GIA</td>\n",
       "      <td>1449881</td>\n",
       "      <td>NaN</td>\n",
       "      <td>2022-02-24</td>\n",
       "    </tr>\n",
       "  </tbody>\n",
       "</table>\n",
       "<p>3 rows × 28 columns</p>\n",
       "</div>"
      ],
      "text/plain": [
       "        Unnamed: 0  diamond_id     shape   size color  \\\n",
       "219701      219701   135553116     Round  18.07     E   \n",
       "219702      219702   114752541  Princess   0.90   NaN   \n",
       "219703      219703   129630500      Pear  10.03   NaN   \n",
       "\n",
       "       fancy_color_dominant_color fancy_color_secondary_color  \\\n",
       "219701                        NaN                         NaN   \n",
       "219702                        Red                         NaN   \n",
       "219703                     Yellow                         NaN   \n",
       "\n",
       "       fancy_color_overtone fancy_color_intensity clarity  ... girdle_min  \\\n",
       "219701                  NaN                   NaN     VS1  ...         TN   \n",
       "219702                  NaN                 Fancy     SI2  ...        XTN   \n",
       "219703                  NaN           Fancy Vivid    VVS2  ...        NaN   \n",
       "\n",
       "       girdle_max culet_size  culet_condition  fluor_color  fluor_intensity  \\\n",
       "219701          M          N              NaN          NaN             None   \n",
       "219702        VTK          N              NaN          NaN            Faint   \n",
       "219703        NaN        NaN              NaN          NaN             None   \n",
       "\n",
       "        lab  total_sales_price eye_clean        date  \n",
       "219701  GIA            1315496       NaN  2022-02-24  \n",
       "219702  GIA            1350000       NaN  2022-02-24  \n",
       "219703  GIA            1449881       NaN  2022-02-24  \n",
       "\n",
       "[3 rows x 28 columns]"
      ]
     },
     "execution_count": 3,
     "metadata": {},
     "output_type": "execute_result"
    }
   ],
   "source": [
    "df.tail(3)"
   ]
  },
  {
   "cell_type": "markdown",
   "id": "391b1f33",
   "metadata": {},
   "source": [
    "## Inspect df; develop process.  \n",
    " \n",
    " 1. What columns can be dropped?\n",
    " 2. Deal with any NaN values."
   ]
  },
  {
   "cell_type": "markdown",
   "id": "51f920d7",
   "metadata": {},
   "source": [
    "## Identify and drop useless columns"
   ]
  },
  {
   "cell_type": "code",
   "execution_count": 4,
   "id": "bd78434e",
   "metadata": {},
   "outputs": [
    {
     "name": "stdout",
     "output_type": "stream",
     "text": [
      "There are 0 nans in Unnamed: 0\n",
      "There are 0 nans in diamond_id\n",
      "There are 0 nans in shape\n",
      "There are 0 nans in size\n",
      "There are 9162 nans in color\n",
      "There are 210540 nans in fancy_color_dominant_color\n",
      "There are 218642 nans in fancy_color_secondary_color\n",
      "There are 217666 nans in fancy_color_overtone\n",
      "There are 210542 nans in fancy_color_intensity\n",
      "There are 0 nans in clarity\n",
      "There are 60607 nans in cut\n",
      "There are 0 nans in symmetry\n",
      "There are 0 nans in polish\n",
      "There are 0 nans in depth_percent\n",
      "There are 0 nans in table_percent\n",
      "There are 0 nans in meas_length\n",
      "There are 0 nans in meas_width\n",
      "There are 0 nans in meas_depth\n",
      "There are 83433 nans in girdle_min\n",
      "There are 84296 nans in girdle_max\n",
      "There are 85741 nans in culet_size\n",
      "There are 204385 nans in culet_condition\n",
      "There are 203978 nans in fluor_color\n",
      "There are 128 nans in fluor_intensity\n",
      "There are 0 nans in lab\n",
      "There are 0 nans in total_sales_price\n",
      "There are 156917 nans in eye_clean\n",
      "There are 0 nans in date\n"
     ]
    }
   ],
   "source": [
    "for col in df:\n",
    "    print(f\"There are {df[col].isnull().sum()} nans in {col}\")"
   ]
  },
  {
   "cell_type": "markdown",
   "id": "e88e70d8",
   "metadata": {},
   "source": [
    "Three of the columns are useless: \n",
    " * `Unnamed: 0` is just the same as the index\n",
    " * `df['date'].unique()` shows that the `date` values are all the same\n",
    " * `diamond_id` could make a decent index, but a serialized count is more useful in this case.\n",
    " \n",
    " So, let's ditch them."
   ]
  },
  {
   "cell_type": "code",
   "execution_count": 5,
   "id": "47f99839",
   "metadata": {},
   "outputs": [
    {
     "data": {
      "text/html": [
       "<div>\n",
       "<style scoped>\n",
       "    .dataframe tbody tr th:only-of-type {\n",
       "        vertical-align: middle;\n",
       "    }\n",
       "\n",
       "    .dataframe tbody tr th {\n",
       "        vertical-align: top;\n",
       "    }\n",
       "\n",
       "    .dataframe thead th {\n",
       "        text-align: right;\n",
       "    }\n",
       "</style>\n",
       "<table border=\"1\" class=\"dataframe\">\n",
       "  <thead>\n",
       "    <tr style=\"text-align: right;\">\n",
       "      <th></th>\n",
       "      <th>shape</th>\n",
       "      <th>size</th>\n",
       "      <th>color</th>\n",
       "      <th>fancy_color_dominant_color</th>\n",
       "      <th>fancy_color_secondary_color</th>\n",
       "      <th>fancy_color_overtone</th>\n",
       "      <th>fancy_color_intensity</th>\n",
       "      <th>clarity</th>\n",
       "      <th>cut</th>\n",
       "      <th>symmetry</th>\n",
       "      <th>...</th>\n",
       "      <th>meas_depth</th>\n",
       "      <th>girdle_min</th>\n",
       "      <th>girdle_max</th>\n",
       "      <th>culet_size</th>\n",
       "      <th>culet_condition</th>\n",
       "      <th>fluor_color</th>\n",
       "      <th>fluor_intensity</th>\n",
       "      <th>lab</th>\n",
       "      <th>total_sales_price</th>\n",
       "      <th>eye_clean</th>\n",
       "    </tr>\n",
       "  </thead>\n",
       "  <tbody>\n",
       "    <tr>\n",
       "      <th>0</th>\n",
       "      <td>Round</td>\n",
       "      <td>0.09</td>\n",
       "      <td>E</td>\n",
       "      <td>NaN</td>\n",
       "      <td>NaN</td>\n",
       "      <td>NaN</td>\n",
       "      <td>NaN</td>\n",
       "      <td>VVS2</td>\n",
       "      <td>Excellent</td>\n",
       "      <td>Very Good</td>\n",
       "      <td>...</td>\n",
       "      <td>1.79</td>\n",
       "      <td>M</td>\n",
       "      <td>M</td>\n",
       "      <td>N</td>\n",
       "      <td>NaN</td>\n",
       "      <td>NaN</td>\n",
       "      <td>None</td>\n",
       "      <td>IGI</td>\n",
       "      <td>200</td>\n",
       "      <td>NaN</td>\n",
       "    </tr>\n",
       "    <tr>\n",
       "      <th>1</th>\n",
       "      <td>Round</td>\n",
       "      <td>0.09</td>\n",
       "      <td>E</td>\n",
       "      <td>NaN</td>\n",
       "      <td>NaN</td>\n",
       "      <td>NaN</td>\n",
       "      <td>NaN</td>\n",
       "      <td>VVS2</td>\n",
       "      <td>Very Good</td>\n",
       "      <td>Very Good</td>\n",
       "      <td>...</td>\n",
       "      <td>1.78</td>\n",
       "      <td>STK</td>\n",
       "      <td>STK</td>\n",
       "      <td>N</td>\n",
       "      <td>NaN</td>\n",
       "      <td>NaN</td>\n",
       "      <td>None</td>\n",
       "      <td>IGI</td>\n",
       "      <td>200</td>\n",
       "      <td>NaN</td>\n",
       "    </tr>\n",
       "  </tbody>\n",
       "</table>\n",
       "<p>2 rows × 25 columns</p>\n",
       "</div>"
      ],
      "text/plain": [
       "   shape  size color fancy_color_dominant_color fancy_color_secondary_color  \\\n",
       "0  Round  0.09     E                        NaN                         NaN   \n",
       "1  Round  0.09     E                        NaN                         NaN   \n",
       "\n",
       "  fancy_color_overtone fancy_color_intensity clarity        cut   symmetry  \\\n",
       "0                  NaN                   NaN    VVS2  Excellent  Very Good   \n",
       "1                  NaN                   NaN    VVS2  Very Good  Very Good   \n",
       "\n",
       "   ... meas_depth  girdle_min  girdle_max  culet_size  culet_condition  \\\n",
       "0  ...       1.79           M           M           N              NaN   \n",
       "1  ...       1.78         STK         STK           N              NaN   \n",
       "\n",
       "   fluor_color fluor_intensity  lab total_sales_price eye_clean  \n",
       "0          NaN            None  IGI               200       NaN  \n",
       "1          NaN            None  IGI               200       NaN  \n",
       "\n",
       "[2 rows x 25 columns]"
      ]
     },
     "execution_count": 5,
     "metadata": {},
     "output_type": "execute_result"
    }
   ],
   "source": [
    "df.drop(['Unnamed: 0', 'date', 'diamond_id'], axis=1, inplace=True)\n",
    "df.head(2)"
   ]
  },
  {
   "cell_type": "markdown",
   "id": "9ab6f467",
   "metadata": {},
   "source": [
    "## Deal with NaN values"
   ]
  },
  {
   "cell_type": "markdown",
   "id": "32ec512e",
   "metadata": {},
   "source": [
    "#### Before I commit to dropping all the NaNs, let's get an idea of how many that would be."
   ]
  },
  {
   "cell_type": "markdown",
   "id": "9c1fb2dd",
   "metadata": {},
   "source": [
    "\n",
    "```\n",
    "df.shape #(219704, 25)\n",
    "df.dropna(axis=1, inplace=True)\n",
    "df.shape #(219704, 12)\n",
    "```\n",
    "That looks like this:\n",
    "\n",
    "| diamond_id | shape | size | clarity | symmetry | polish  | depth_percent | table_percent | meas_length | meas_width | meas_depth | lab | total_sales_price|\n",
    "|---|---|---|---|---|---|---|---|---|---|---|---|---|\t\t\t\n",
    "| 131328926 | Round | 0.09 | VVS2 | Very Good | Very Good | 62.7 | 59.0 | 2.85 | 2.87 | 1.79 | IGI | 200 |\n",
    "| 131704776 | Round | 0.09 | VVS2 | Very Good | Very Good | 61.9 | 59.0 | 2.84 | 2.89 | 1.78 | IGI | 200 |\n",
    "| 131584417 | Round | 0.09 | VVS2 | Very Good | Very Good | 61.1 | 59.0 | 2.88 | 2.90 | 1.77 | IGI | 200 |\n",
    "\n",
    "\n",
    "A check of `df.isnull().sum().sum()` returning 0, as expected.\n"
   ]
  },
  {
   "cell_type": "markdown",
   "id": "63513d4b",
   "metadata": {},
   "source": [
    "#### Dropping the `NaN` values would keep all the rows (which is good) but I'd loose columns (bad)\n",
    "\n",
    "\n",
    "This wouldn't be bad in that it doesn't get rid of too many columns but the ones it does are important. Carat, Color, Cut, and Clarity are what the diamond industry are the factors. So, this needs to be fixed."
   ]
  },
  {
   "cell_type": "code",
   "execution_count": 6,
   "id": "67da4f03",
   "metadata": {},
   "outputs": [],
   "source": [
    "df.fillna({'color':'unknown', 'cut':'unknown', 'eye_clean': 'unknown',\n",
    "           'fancy_color_dominant_color': 'unknown', 'fancy_color_secondary_color': 'unknown',\n",
    "           'fancy_color_overtone':'unknown', 'fancy_color_intensity':'unknown',  \n",
    "           'girdle_min':'unknown', 'girdle_max':'unknown', \n",
    "           'culet_size':'unknown', 'culet_condition':'unknown',\n",
    "           'fluor_color':'unknown', 'fluor_intensity':'unknown'   \n",
    "          }, inplace=True)"
   ]
  },
  {
   "cell_type": "code",
   "execution_count": 7,
   "id": "c77a26e9",
   "metadata": {},
   "outputs": [
    {
     "data": {
      "text/plain": [
       "0"
      ]
     },
     "execution_count": 7,
     "metadata": {},
     "output_type": "execute_result"
    }
   ],
   "source": [
    "df.isnull().sum().sum()"
   ]
  },
  {
   "cell_type": "markdown",
   "id": "2c30d40c",
   "metadata": {},
   "source": [
    "### For the categorical variables, how much variety is there and what does it mean?\n",
    "\n",
    "\n",
    "####  Should it be needed, here's the code for the values of each column:\n",
    "\n",
    "```\n",
    "col_list = ['color', 'clarity', 'cut', 'symmetry','polish','lab','eye_clean', 'culet_size', 'lab','shape',\n",
    "            'fancy_color_intensity','fancy_color_dominant_color','fancy_color_secondary_color',\n",
    "            'fancy_color_overtone', 'fluor_color', 'fluor_intensity',]\n",
    "            \n",
    "for col in col_list:\n",
    "    print(f\" '{col}' has the following values: \\n \\t {df[col].unique()} \\n\")\n",
    "```\n",
    "\n",
    "#### The only column that is of any concern is the size column which looks to have a huge amount of outliers."
   ]
  },
  {
   "cell_type": "markdown",
   "id": "9d995f19",
   "metadata": {},
   "source": [
    "## Save this for use in the other notebooks"
   ]
  },
  {
   "cell_type": "code",
   "execution_count": 8,
   "id": "db165d95",
   "metadata": {},
   "outputs": [],
   "source": [
    "df.to_pickle(\"../data/diamonds.pkl\")"
   ]
  }
 ],
 "metadata": {
  "kernelspec": {
   "display_name": "Python 3 (ipykernel)",
   "language": "python",
   "name": "python3"
  },
  "language_info": {
   "codemirror_mode": {
    "name": "ipython",
    "version": 3
   },
   "file_extension": ".py",
   "mimetype": "text/x-python",
   "name": "python",
   "nbconvert_exporter": "python",
   "pygments_lexer": "ipython3",
   "version": "3.9.13"
  },
  "toc": {
   "base_numbering": 1,
   "nav_menu": {},
   "number_sections": false,
   "sideBar": true,
   "skip_h1_title": false,
   "title_cell": "Table of Contents",
   "title_sidebar": "Contents",
   "toc_cell": false,
   "toc_position": {},
   "toc_section_display": true,
   "toc_window_display": true
  }
 },
 "nbformat": 4,
 "nbformat_minor": 5
}
