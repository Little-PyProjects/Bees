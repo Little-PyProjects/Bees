{
 "cells": [
  {
   "cell_type": "markdown",
   "id": "370a384f",
   "metadata": {},
   "source": [
    "# Data Wrangling the Diamonds dataset"
   ]
  },
  {
   "cell_type": "markdown",
   "id": "01c38851",
   "metadata": {},
   "source": [
    "## A quick note --\n",
    "\n",
    "There are two ways to run this notebook, depending on your familiarly with cleaning data.\n",
    "\n",
    "Option 1 \"I been doing this for a while chief\" -- Run lines 1 & 2 and you're good to go. The pickle file is used for the EDA notebook.\n",
    "\n",
    "Option 2 \"I'm new to data munging so let's step though this\". -- Skip line 2 "
   ]
  },
  {
   "cell_type": "markdown",
   "id": "1a39e953",
   "metadata": {},
   "source": [
    "## The basics"
   ]
  },
  {
   "cell_type": "code",
   "execution_count": 1,
   "id": "27c3c54f",
   "metadata": {},
   "outputs": [],
   "source": [
    "import pandas as pd"
   ]
  },
  {
   "cell_type": "code",
   "execution_count": 2,
   "id": "0ce00312",
   "metadata": {},
   "outputs": [],
   "source": [
    "diamonds = (\n",
    "    pd.read_csv(\"../data/diamonds_raw.csv\", index_col=[0])\n",
    "    .drop(['date', 'diamond_id'], axis=1)\n",
    "    .rename(columns={'cut': 'cut_quality', 'shape' : 'cut'})\n",
    "    .fillna({'color':'unknown',\n",
    "             'cut_quality':'unknown', \n",
    "             'eye_clean': 'unknown',\n",
    "             'fancy_color_dominant_color': 'unknown', \n",
    "             'fancy_color_secondary_color': 'unknown',\n",
    "             'fancy_color_overtone':'unknown', \n",
    "             'fancy_color_intensity':'unknown',  \n",
    "             'girdle_min':'unknown', \n",
    "             'girdle_max':'unknown', \n",
    "             'culet_size':'unknown', \n",
    "             'culet_condition':'unknown',\n",
    "             'fluor_color':'unknown', \n",
    "             'fluor_intensity':'unknown' })\n",
    "    .to_pickle(\"../data/diamonds.pkl\"))"
   ]
  },
  {
   "cell_type": "code",
   "execution_count": 3,
   "id": "d5228b10",
   "metadata": {},
   "outputs": [],
   "source": [
    "df = pd.read_csv(\"../data/diamonds_raw.csv\", index_col=[0])"
   ]
  },
  {
   "cell_type": "code",
   "execution_count": 4,
   "id": "78034fc6",
   "metadata": {
    "scrolled": false
   },
   "outputs": [
    {
     "data": {
      "text/html": [
       "<div>\n",
       "<style scoped>\n",
       "    .dataframe tbody tr th:only-of-type {\n",
       "        vertical-align: middle;\n",
       "    }\n",
       "\n",
       "    .dataframe tbody tr th {\n",
       "        vertical-align: top;\n",
       "    }\n",
       "\n",
       "    .dataframe thead th {\n",
       "        text-align: right;\n",
       "    }\n",
       "</style>\n",
       "<table border=\"1\" class=\"dataframe\">\n",
       "  <thead>\n",
       "    <tr style=\"text-align: right;\">\n",
       "      <th></th>\n",
       "      <th>diamond_id</th>\n",
       "      <th>shape</th>\n",
       "      <th>size</th>\n",
       "      <th>color</th>\n",
       "      <th>fancy_color_dominant_color</th>\n",
       "      <th>fancy_color_secondary_color</th>\n",
       "      <th>fancy_color_overtone</th>\n",
       "      <th>fancy_color_intensity</th>\n",
       "      <th>clarity</th>\n",
       "      <th>cut</th>\n",
       "      <th>...</th>\n",
       "      <th>girdle_min</th>\n",
       "      <th>girdle_max</th>\n",
       "      <th>culet_size</th>\n",
       "      <th>culet_condition</th>\n",
       "      <th>fluor_color</th>\n",
       "      <th>fluor_intensity</th>\n",
       "      <th>lab</th>\n",
       "      <th>total_sales_price</th>\n",
       "      <th>eye_clean</th>\n",
       "      <th>date</th>\n",
       "    </tr>\n",
       "  </thead>\n",
       "  <tbody>\n",
       "    <tr>\n",
       "      <th>219701</th>\n",
       "      <td>135553116</td>\n",
       "      <td>Round</td>\n",
       "      <td>18.07</td>\n",
       "      <td>E</td>\n",
       "      <td>NaN</td>\n",
       "      <td>NaN</td>\n",
       "      <td>NaN</td>\n",
       "      <td>NaN</td>\n",
       "      <td>VS1</td>\n",
       "      <td>Excellent</td>\n",
       "      <td>...</td>\n",
       "      <td>TN</td>\n",
       "      <td>M</td>\n",
       "      <td>N</td>\n",
       "      <td>NaN</td>\n",
       "      <td>NaN</td>\n",
       "      <td>None</td>\n",
       "      <td>GIA</td>\n",
       "      <td>1315496</td>\n",
       "      <td>NaN</td>\n",
       "      <td>2022-02-24</td>\n",
       "    </tr>\n",
       "    <tr>\n",
       "      <th>219702</th>\n",
       "      <td>114752541</td>\n",
       "      <td>Princess</td>\n",
       "      <td>0.90</td>\n",
       "      <td>NaN</td>\n",
       "      <td>Red</td>\n",
       "      <td>NaN</td>\n",
       "      <td>NaN</td>\n",
       "      <td>Fancy</td>\n",
       "      <td>SI2</td>\n",
       "      <td>NaN</td>\n",
       "      <td>...</td>\n",
       "      <td>XTN</td>\n",
       "      <td>VTK</td>\n",
       "      <td>N</td>\n",
       "      <td>NaN</td>\n",
       "      <td>NaN</td>\n",
       "      <td>Faint</td>\n",
       "      <td>GIA</td>\n",
       "      <td>1350000</td>\n",
       "      <td>NaN</td>\n",
       "      <td>2022-02-24</td>\n",
       "    </tr>\n",
       "    <tr>\n",
       "      <th>219703</th>\n",
       "      <td>129630500</td>\n",
       "      <td>Pear</td>\n",
       "      <td>10.03</td>\n",
       "      <td>NaN</td>\n",
       "      <td>Yellow</td>\n",
       "      <td>NaN</td>\n",
       "      <td>NaN</td>\n",
       "      <td>Fancy Vivid</td>\n",
       "      <td>VVS2</td>\n",
       "      <td>NaN</td>\n",
       "      <td>...</td>\n",
       "      <td>NaN</td>\n",
       "      <td>NaN</td>\n",
       "      <td>NaN</td>\n",
       "      <td>NaN</td>\n",
       "      <td>NaN</td>\n",
       "      <td>None</td>\n",
       "      <td>GIA</td>\n",
       "      <td>1449881</td>\n",
       "      <td>NaN</td>\n",
       "      <td>2022-02-24</td>\n",
       "    </tr>\n",
       "  </tbody>\n",
       "</table>\n",
       "<p>3 rows × 27 columns</p>\n",
       "</div>"
      ],
      "text/plain": [
       "        diamond_id     shape   size color fancy_color_dominant_color  \\\n",
       "219701   135553116     Round  18.07     E                        NaN   \n",
       "219702   114752541  Princess   0.90   NaN                        Red   \n",
       "219703   129630500      Pear  10.03   NaN                     Yellow   \n",
       "\n",
       "       fancy_color_secondary_color fancy_color_overtone fancy_color_intensity  \\\n",
       "219701                         NaN                  NaN                   NaN   \n",
       "219702                         NaN                  NaN                 Fancy   \n",
       "219703                         NaN                  NaN           Fancy Vivid   \n",
       "\n",
       "       clarity        cut  ... girdle_min girdle_max  culet_size  \\\n",
       "219701     VS1  Excellent  ...         TN          M           N   \n",
       "219702     SI2        NaN  ...        XTN        VTK           N   \n",
       "219703    VVS2        NaN  ...        NaN        NaN         NaN   \n",
       "\n",
       "        culet_condition  fluor_color  fluor_intensity  lab total_sales_price  \\\n",
       "219701              NaN          NaN             None  GIA           1315496   \n",
       "219702              NaN          NaN            Faint  GIA           1350000   \n",
       "219703              NaN          NaN             None  GIA           1449881   \n",
       "\n",
       "       eye_clean        date  \n",
       "219701       NaN  2022-02-24  \n",
       "219702       NaN  2022-02-24  \n",
       "219703       NaN  2022-02-24  \n",
       "\n",
       "[3 rows x 27 columns]"
      ]
     },
     "execution_count": 4,
     "metadata": {},
     "output_type": "execute_result"
    }
   ],
   "source": [
    "df.tail(3)"
   ]
  },
  {
   "cell_type": "markdown",
   "id": "391b1f33",
   "metadata": {},
   "source": [
    "#### Let's start with a quick inspection of the dataframe"
   ]
  },
  {
   "cell_type": "code",
   "execution_count": 5,
   "id": "35b17d26",
   "metadata": {},
   "outputs": [
    {
     "data": {
      "text/plain": [
       "(219704, 27)"
      ]
     },
     "execution_count": 5,
     "metadata": {},
     "output_type": "execute_result"
    }
   ],
   "source": [
    "df.shape"
   ]
  },
  {
   "cell_type": "code",
   "execution_count": 6,
   "id": "8861c46c",
   "metadata": {},
   "outputs": [
    {
     "data": {
      "text/plain": [
       "<bound method DataFrame.info of         diamond_id     shape   size color fancy_color_dominant_color  \\\n",
       "0        131328926     Round   0.09     E                        NaN   \n",
       "1        131704776     Round   0.09     E                        NaN   \n",
       "2        131584417     Round   0.09     E                        NaN   \n",
       "3        131584416     Round   0.09     E                        NaN   \n",
       "4        131613644     Round   0.09     E                        NaN   \n",
       "...            ...       ...    ...   ...                        ...   \n",
       "219699   135619262     Round  10.65     E                        NaN   \n",
       "219700   135122237   Radiant   5.17   NaN                      Green   \n",
       "219701   135553116     Round  18.07     E                        NaN   \n",
       "219702   114752541  Princess   0.90   NaN                        Red   \n",
       "219703   129630500      Pear  10.03   NaN                     Yellow   \n",
       "\n",
       "       fancy_color_secondary_color fancy_color_overtone fancy_color_intensity  \\\n",
       "0                              NaN                  NaN                   NaN   \n",
       "1                              NaN                  NaN                   NaN   \n",
       "2                              NaN                  NaN                   NaN   \n",
       "3                              NaN                  NaN                   NaN   \n",
       "4                              NaN                  NaN                   NaN   \n",
       "...                            ...                  ...                   ...   \n",
       "219699                         NaN                  NaN                   NaN   \n",
       "219700                         NaN                 None           Fancy Light   \n",
       "219701                         NaN                  NaN                   NaN   \n",
       "219702                         NaN                  NaN                 Fancy   \n",
       "219703                         NaN                  NaN           Fancy Vivid   \n",
       "\n",
       "       clarity        cut  ... girdle_min girdle_max  culet_size  \\\n",
       "0         VVS2  Excellent  ...          M          M           N   \n",
       "1         VVS2  Very Good  ...        STK        STK           N   \n",
       "2         VVS2  Excellent  ...         TN          M         NaN   \n",
       "3         VVS2  Excellent  ...          M        STK         NaN   \n",
       "4         VVS2  Very Good  ...        STK        STK           N   \n",
       "...        ...        ...  ...        ...        ...         ...   \n",
       "219699     VS1  Excellent  ...          M        STK           N   \n",
       "219700     VS2        NaN  ...         TK        XTK         NaN   \n",
       "219701     VS1  Excellent  ...         TN          M           N   \n",
       "219702     SI2        NaN  ...        XTN        VTK           N   \n",
       "219703    VVS2        NaN  ...        NaN        NaN         NaN   \n",
       "\n",
       "        culet_condition  fluor_color  fluor_intensity  lab total_sales_price  \\\n",
       "0                   NaN          NaN             None  IGI               200   \n",
       "1                   NaN          NaN             None  IGI               200   \n",
       "2                   NaN          NaN             None  IGI               200   \n",
       "3                   NaN          NaN             None  IGI               200   \n",
       "4                   NaN          NaN             None  IGI               200   \n",
       "...                 ...          ...              ...  ...               ...   \n",
       "219699              NaN          NaN             None  GIA           1210692   \n",
       "219700              NaN          NaN             None  GIA           1292500   \n",
       "219701              NaN          NaN             None  GIA           1315496   \n",
       "219702              NaN          NaN            Faint  GIA           1350000   \n",
       "219703              NaN          NaN             None  GIA           1449881   \n",
       "\n",
       "       eye_clean        date  \n",
       "0            NaN  2022-02-24  \n",
       "1            NaN  2022-02-24  \n",
       "2            NaN  2022-02-24  \n",
       "3            NaN  2022-02-24  \n",
       "4            NaN  2022-02-24  \n",
       "...          ...         ...  \n",
       "219699       NaN  2022-02-24  \n",
       "219700       NaN  2022-02-24  \n",
       "219701       NaN  2022-02-24  \n",
       "219702       NaN  2022-02-24  \n",
       "219703       NaN  2022-02-24  \n",
       "\n",
       "[219704 rows x 27 columns]>"
      ]
     },
     "execution_count": 6,
     "metadata": {},
     "output_type": "execute_result"
    }
   ],
   "source": [
    "df.info"
   ]
  },
  {
   "cell_type": "markdown",
   "id": "e00fa748",
   "metadata": {},
   "source": [
    "## Identify and drop useless columns"
   ]
  },
  {
   "cell_type": "markdown",
   "id": "89279d2e",
   "metadata": {},
   "source": [
    "#### Are the dates all the same?"
   ]
  },
  {
   "cell_type": "code",
   "execution_count": 7,
   "id": "9b36bc6c",
   "metadata": {},
   "outputs": [
    {
     "data": {
      "text/plain": [
       "array(['2022-02-24'], dtype=object)"
      ]
     },
     "execution_count": 7,
     "metadata": {},
     "output_type": "execute_result"
    }
   ],
   "source": [
    "df['date'].unique()"
   ]
  },
  {
   "cell_type": "markdown",
   "id": "cc8e3ee7",
   "metadata": {},
   "source": [
    "Well, that's a useless column. `diamond_id` could make a decent index, but a serialized count is more useful in this case because we're looking to develop a pricing model.\n",
    " \n",
    "So, let's ditch them."
   ]
  },
  {
   "cell_type": "code",
   "execution_count": 8,
   "id": "1d8f16a6",
   "metadata": {},
   "outputs": [
    {
     "data": {
      "text/html": [
       "<div>\n",
       "<style scoped>\n",
       "    .dataframe tbody tr th:only-of-type {\n",
       "        vertical-align: middle;\n",
       "    }\n",
       "\n",
       "    .dataframe tbody tr th {\n",
       "        vertical-align: top;\n",
       "    }\n",
       "\n",
       "    .dataframe thead th {\n",
       "        text-align: right;\n",
       "    }\n",
       "</style>\n",
       "<table border=\"1\" class=\"dataframe\">\n",
       "  <thead>\n",
       "    <tr style=\"text-align: right;\">\n",
       "      <th></th>\n",
       "      <th>shape</th>\n",
       "      <th>size</th>\n",
       "      <th>color</th>\n",
       "      <th>fancy_color_dominant_color</th>\n",
       "      <th>fancy_color_secondary_color</th>\n",
       "      <th>fancy_color_overtone</th>\n",
       "      <th>fancy_color_intensity</th>\n",
       "      <th>clarity</th>\n",
       "      <th>cut</th>\n",
       "      <th>symmetry</th>\n",
       "      <th>...</th>\n",
       "      <th>meas_depth</th>\n",
       "      <th>girdle_min</th>\n",
       "      <th>girdle_max</th>\n",
       "      <th>culet_size</th>\n",
       "      <th>culet_condition</th>\n",
       "      <th>fluor_color</th>\n",
       "      <th>fluor_intensity</th>\n",
       "      <th>lab</th>\n",
       "      <th>total_sales_price</th>\n",
       "      <th>eye_clean</th>\n",
       "    </tr>\n",
       "  </thead>\n",
       "  <tbody>\n",
       "    <tr>\n",
       "      <th>0</th>\n",
       "      <td>Round</td>\n",
       "      <td>0.09</td>\n",
       "      <td>E</td>\n",
       "      <td>NaN</td>\n",
       "      <td>NaN</td>\n",
       "      <td>NaN</td>\n",
       "      <td>NaN</td>\n",
       "      <td>VVS2</td>\n",
       "      <td>Excellent</td>\n",
       "      <td>Very Good</td>\n",
       "      <td>...</td>\n",
       "      <td>1.79</td>\n",
       "      <td>M</td>\n",
       "      <td>M</td>\n",
       "      <td>N</td>\n",
       "      <td>NaN</td>\n",
       "      <td>NaN</td>\n",
       "      <td>None</td>\n",
       "      <td>IGI</td>\n",
       "      <td>200</td>\n",
       "      <td>NaN</td>\n",
       "    </tr>\n",
       "    <tr>\n",
       "      <th>1</th>\n",
       "      <td>Round</td>\n",
       "      <td>0.09</td>\n",
       "      <td>E</td>\n",
       "      <td>NaN</td>\n",
       "      <td>NaN</td>\n",
       "      <td>NaN</td>\n",
       "      <td>NaN</td>\n",
       "      <td>VVS2</td>\n",
       "      <td>Very Good</td>\n",
       "      <td>Very Good</td>\n",
       "      <td>...</td>\n",
       "      <td>1.78</td>\n",
       "      <td>STK</td>\n",
       "      <td>STK</td>\n",
       "      <td>N</td>\n",
       "      <td>NaN</td>\n",
       "      <td>NaN</td>\n",
       "      <td>None</td>\n",
       "      <td>IGI</td>\n",
       "      <td>200</td>\n",
       "      <td>NaN</td>\n",
       "    </tr>\n",
       "  </tbody>\n",
       "</table>\n",
       "<p>2 rows × 25 columns</p>\n",
       "</div>"
      ],
      "text/plain": [
       "   shape  size color fancy_color_dominant_color fancy_color_secondary_color  \\\n",
       "0  Round  0.09     E                        NaN                         NaN   \n",
       "1  Round  0.09     E                        NaN                         NaN   \n",
       "\n",
       "  fancy_color_overtone fancy_color_intensity clarity        cut   symmetry  \\\n",
       "0                  NaN                   NaN    VVS2  Excellent  Very Good   \n",
       "1                  NaN                   NaN    VVS2  Very Good  Very Good   \n",
       "\n",
       "   ... meas_depth  girdle_min  girdle_max  culet_size  culet_condition  \\\n",
       "0  ...       1.79           M           M           N              NaN   \n",
       "1  ...       1.78         STK         STK           N              NaN   \n",
       "\n",
       "   fluor_color fluor_intensity  lab total_sales_price eye_clean  \n",
       "0          NaN            None  IGI               200       NaN  \n",
       "1          NaN            None  IGI               200       NaN  \n",
       "\n",
       "[2 rows x 25 columns]"
      ]
     },
     "execution_count": 8,
     "metadata": {},
     "output_type": "execute_result"
    }
   ],
   "source": [
    "df = df.drop(['date', 'diamond_id'], axis=1)\n",
    "df.head(2)"
   ]
  },
  {
   "cell_type": "markdown",
   "id": "f428895f",
   "metadata": {},
   "source": [
    "#### What are the possible answers for the categorical variables?\n"
   ]
  },
  {
   "cell_type": "code",
   "execution_count": 9,
   "id": "80feaa7f",
   "metadata": {},
   "outputs": [
    {
     "name": "stdout",
     "output_type": "stream",
     "text": [
      " 'color' has the following values: \n",
      " \t ['E' 'F' 'L' 'D' 'J' 'I' 'G' 'H' 'M' 'K' nan] \n",
      "\n",
      " 'clarity' has the following values: \n",
      " \t ['VVS2' 'VVS1' 'I1' 'VS1' 'VS2' 'IF' 'SI2' 'I2' 'SI1' 'SI3' 'I3'] \n",
      "\n",
      " 'cut' has the following values: \n",
      " \t ['Excellent' 'Very Good' nan 'Good' 'Fair' 'None' 'Ideal'] \n",
      "\n",
      " 'symmetry' has the following values: \n",
      " \t ['Very Good' 'Excellent' 'Good' 'Fair' 'Poor'] \n",
      "\n",
      " 'polish' has the following values: \n",
      " \t ['Very Good' 'Excellent' 'Good' 'Fair' 'Poor'] \n",
      "\n",
      " 'lab' has the following values: \n",
      " \t ['IGI' 'GIA' 'HRD'] \n",
      "\n",
      " 'eye_clean' has the following values: \n",
      " \t [nan 'Yes' 'E1' 'Borderline' 'No'] \n",
      "\n",
      " 'culet_size' has the following values: \n",
      " \t ['N' nan 'S' 'M' 'VS' 'L' 'EL' 'SL' 'VL'] \n",
      "\n",
      " 'lab' has the following values: \n",
      " \t ['IGI' 'GIA' 'HRD'] \n",
      "\n",
      " 'shape' has the following values: \n",
      " \t ['Round' 'Pear' 'Oval' 'Marquise' 'Princess' 'Emerald' 'Heart' 'Cushion'\n",
      " 'Radiant' 'Cushion Modified' 'Asscher'] \n",
      "\n",
      " 'fancy_color_intensity' has the following values: \n",
      " \t [nan 'Fancy' 'Very Light' 'Faint' 'Fancy Light' 'Light' 'Fancy Deep'\n",
      " 'Fancy Intense' 'Fancy Dark' 'Fancy Vivid'] \n",
      "\n",
      " 'fancy_color_dominant_color' has the following values: \n",
      " \t [nan 'Orange' 'Brown' 'Yellow' 'Pink' 'Black' 'Other' 'Gray' 'Purple'\n",
      " 'Blue' 'Green' 'Chameleon' 'Red'] \n",
      "\n",
      " 'fancy_color_secondary_color' has the following values: \n",
      " \t [nan 'Purple' 'Green' 'Yellow' 'Brown' 'Orange' 'Pink' 'Gray' 'Blue'\n",
      " 'Violet' 'Red'] \n",
      "\n",
      " 'fancy_color_overtone' has the following values: \n",
      " \t [nan 'None' 'Yellowish' 'Brownish' 'Pinkish' 'Greenish' 'Orangey'\n",
      " 'Purplish' 'Grayish'] \n",
      "\n",
      " 'fluor_color' has the following values: \n",
      " \t [nan 'Blue' 'Yellow' 'Green' 'White' 'Orange'] \n",
      "\n",
      " 'fluor_intensity' has the following values: \n",
      " \t ['None' 'Very Slight' 'Strong' 'Medium' 'Faint' 'Very Strong' nan 'Slight'] \n",
      "\n"
     ]
    }
   ],
   "source": [
    "col_list = ['color', 'clarity', 'cut', 'symmetry','polish','lab','eye_clean', 'culet_size', 'lab','shape',\n",
    "            'fancy_color_intensity','fancy_color_dominant_color','fancy_color_secondary_color',\n",
    "            'fancy_color_overtone', 'fluor_color', 'fluor_intensity',]\n",
    "            \n",
    "for col in col_list:\n",
    "    print(f\" '{col}' has the following values: \\n \\t {df[col].unique()} \\n\")"
   ]
  },
  {
   "cell_type": "markdown",
   "id": "0c72b405",
   "metadata": {},
   "source": [
    "This is a little odd but something you don't really see until the EDA notebook. The diamond industry talks about the 4Cs: cut, clarity, color and caret weight. But here, cut refers to the quality of the cut, and they're using shape to mean cut. We're going to want to rename that to avoid confusion."
   ]
  },
  {
   "cell_type": "code",
   "execution_count": 10,
   "id": "7ce5910d",
   "metadata": {},
   "outputs": [],
   "source": [
    "df = df.rename(columns={'cut': 'cut_quality', 'shape' : 'cut'})\n"
   ]
  },
  {
   "cell_type": "markdown",
   "id": "970a0b33",
   "metadata": {},
   "source": [
    "#### Also, that seemed like a lot of NaNs in cell 6. But how many is that for each column?"
   ]
  },
  {
   "cell_type": "code",
   "execution_count": 11,
   "id": "bd78434e",
   "metadata": {},
   "outputs": [
    {
     "name": "stdout",
     "output_type": "stream",
     "text": [
      "There are 0 nans in cut\n",
      "There are 0 nans in size\n",
      "There are 9162 nans in color\n",
      "There are 210540 nans in fancy_color_dominant_color\n",
      "There are 218642 nans in fancy_color_secondary_color\n",
      "There are 217666 nans in fancy_color_overtone\n",
      "There are 210542 nans in fancy_color_intensity\n",
      "There are 0 nans in clarity\n",
      "There are 60607 nans in cut_quality\n",
      "There are 0 nans in symmetry\n",
      "There are 0 nans in polish\n",
      "There are 0 nans in depth_percent\n",
      "There are 0 nans in table_percent\n",
      "There are 0 nans in meas_length\n",
      "There are 0 nans in meas_width\n",
      "There are 0 nans in meas_depth\n",
      "There are 83433 nans in girdle_min\n",
      "There are 84296 nans in girdle_max\n",
      "There are 85741 nans in culet_size\n",
      "There are 204385 nans in culet_condition\n",
      "There are 203978 nans in fluor_color\n",
      "There are 128 nans in fluor_intensity\n",
      "There are 0 nans in lab\n",
      "There are 0 nans in total_sales_price\n",
      "There are 156917 nans in eye_clean\n"
     ]
    }
   ],
   "source": [
    "for col in df:\n",
    "    print(f\"There are {df[col].isnull().sum()} nans in {col}\")"
   ]
  },
  {
   "cell_type": "markdown",
   "id": "9ab6f467",
   "metadata": {},
   "source": [
    "## Dealing with NaN values"
   ]
  },
  {
   "cell_type": "markdown",
   "id": "32ec512e",
   "metadata": {},
   "source": [
    "#### Before I commit to just dropping all the NaNs, let's get an idea of how what that would look like."
   ]
  },
  {
   "cell_type": "markdown",
   "id": "9c1fb2dd",
   "metadata": {},
   "source": [
    "\n",
    "```\n",
    "df.shape #(219704, 25)\n",
    "df.dropna(axis=1, inplace=True)\n",
    "df.shape #(219704, 12)\n",
    "```\n",
    "That would result in a table that looks like this:\n",
    "\n",
    "| diamond_id | cut | size | clarity | symmetry | polish  | depth_percent | table_percent | meas_length | meas_width | meas_depth | lab | total_sales_price|\n",
    "|---|---|---|---|---|---|---|---|---|---|---|---|---|\t\t\t\n",
    "| 131328926 | Round | 0.09 | VVS2 | Very Good | Very Good | 62.7 | 59.0 | 2.85 | 2.87 | 1.79 | IGI | 200 |\n",
    "| 131704776 | Round | 0.09 | VVS2 | Very Good | Very Good | 61.9 | 59.0 | 2.84 | 2.89 | 1.78 | IGI | 200 |\n",
    "| 131584417 | Round | 0.09 | VVS2 | Very Good | Very Good | 61.1 | 59.0 | 2.88 | 2.90 | 1.77 | IGI | 200 |\n",
    "\n",
    "\n",
    "And check of `df.isnull().sum().sum()` would return 0 (no null values), as we would expect.\n"
   ]
  },
  {
   "cell_type": "markdown",
   "id": "63513d4b",
   "metadata": {},
   "source": [
    "#### Dropping the `NaN` values would keep all the rows (which is good) but we'd loose columns (which could be bad)\n",
    "\n",
    "\n",
    "This wouldn't be bad in that it doesn't get rid of too many columns but the ones it does are important. Carat, Color, Cut, and Clarity are what the diamond industry are the factors.\n",
    "\n",
    "But let's think about this. Say certain colored diamonds are really valuable. If we got rid of the columns, there would be nothing to analyze.\n",
    "\n",
    "So, this needs to be fixed.\n",
    "\n",
    "Now my sense is were going to find that isn't a big deal and also that girdle and cutlet are going to end up being functions of caret weight but, we'll find out later."
   ]
  },
  {
   "cell_type": "code",
   "execution_count": 12,
   "id": "43b9ae41",
   "metadata": {},
   "outputs": [],
   "source": [
    "df = df.fillna({'color':'unknown',\n",
    "             'cut_quality':'unknown', \n",
    "             'eye_clean': 'unknown',\n",
    "             'fancy_color_dominant_color': 'unknown', \n",
    "             'fancy_color_secondary_color': 'unknown',\n",
    "             'fancy_color_overtone':'unknown', \n",
    "             'fancy_color_intensity':'unknown',  \n",
    "             'girdle_min':'unknown', \n",
    "             'girdle_max':'unknown', \n",
    "             'culet_size':'unknown', \n",
    "             'culet_condition':'unknown',\n",
    "             'fluor_color':'unknown', \n",
    "             'fluor_intensity':'unknown' })"
   ]
  },
  {
   "cell_type": "markdown",
   "id": "7a5793a4",
   "metadata": {},
   "source": [
    "And a quick check to make sure there are now no nulls in this dataset."
   ]
  },
  {
   "cell_type": "code",
   "execution_count": 13,
   "id": "c77a26e9",
   "metadata": {},
   "outputs": [
    {
     "data": {
      "text/plain": [
       "0"
      ]
     },
     "execution_count": 13,
     "metadata": {},
     "output_type": "execute_result"
    }
   ],
   "source": [
    "df.isnull().sum().sum()"
   ]
  },
  {
   "cell_type": "markdown",
   "id": "42cc082f",
   "metadata": {},
   "source": [
    "OK, from here we can package it up. We could save this a csv but I'm going to save it as a pickel file because it's very fast AND because we're using it internally. Pickle files aren't secure as they allow you run whatever is there. But in this case, we see all the steps we've done it's ok."
   ]
  },
  {
   "cell_type": "code",
   "execution_count": 14,
   "id": "042e88c3",
   "metadata": {},
   "outputs": [],
   "source": [
    "df.to_pickle(\"../data/diamonds.pkl\")"
   ]
  }
 ],
 "metadata": {
  "kernelspec": {
   "display_name": "Python 3 (ipykernel)",
   "language": "python",
   "name": "python3"
  },
  "language_info": {
   "codemirror_mode": {
    "name": "ipython",
    "version": 3
   },
   "file_extension": ".py",
   "mimetype": "text/x-python",
   "name": "python",
   "nbconvert_exporter": "python",
   "pygments_lexer": "ipython3",
   "version": "3.9.12"
  },
  "toc": {
   "base_numbering": 1,
   "nav_menu": {},
   "number_sections": false,
   "sideBar": true,
   "skip_h1_title": false,
   "title_cell": "Table of Contents",
   "title_sidebar": "Contents",
   "toc_cell": false,
   "toc_position": {},
   "toc_section_display": true,
   "toc_window_display": true
  }
 },
 "nbformat": 4,
 "nbformat_minor": 5
}
